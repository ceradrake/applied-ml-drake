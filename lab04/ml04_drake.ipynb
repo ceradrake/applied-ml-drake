{
 "cells": [
  {
   "cell_type": "markdown",
   "metadata": {},
   "source": [
    "# Lab 04 - Predicting A Continuous Target With Regression"
   ]
  },
  {
   "cell_type": "markdown",
   "metadata": {},
   "source": [
    "### Date: 04/06/2020\n",
    "### Author: Cera Drake\n",
    "##### Dataset: Titanic -- I will use a data set that looks at different features of the passengers on the Titanic\n",
    "##### Objective: In this lab, I will predict a continuous numeric factor. I will be predicting fare using information from the Titanic dataset"
   ]
  },
  {
   "cell_type": "code",
   "execution_count": 158,
   "metadata": {},
   "outputs": [],
   "source": [
    "# Imports\n",
    "import seaborn as sns\n",
    "import pandas as pd\n",
    "import numpy as np\n",
    "import matplotlib.pyplot as plt\n",
    "\n",
    "from sklearn.model_selection import train_test_split\n",
    "from sklearn.linear_model import LinearRegression, Ridge, ElasticNet\n",
    "from sklearn.preprocessing import PolynomialFeatures\n",
    "from sklearn.metrics import mean_squared_error, mean_absolute_error, r2_score"
   ]
  },
  {
   "cell_type": "markdown",
   "metadata": {},
   "source": [
    "##### Section 1: Import and Inspect Data"
   ]
  },
  {
   "cell_type": "code",
   "execution_count": 159,
   "metadata": {},
   "outputs": [
    {
     "data": {
      "text/html": [
       "<div>\n",
       "<style scoped>\n",
       "    .dataframe tbody tr th:only-of-type {\n",
       "        vertical-align: middle;\n",
       "    }\n",
       "\n",
       "    .dataframe tbody tr th {\n",
       "        vertical-align: top;\n",
       "    }\n",
       "\n",
       "    .dataframe thead th {\n",
       "        text-align: right;\n",
       "    }\n",
       "</style>\n",
       "<table border=\"1\" class=\"dataframe\">\n",
       "  <thead>\n",
       "    <tr style=\"text-align: right;\">\n",
       "      <th></th>\n",
       "      <th>survived</th>\n",
       "      <th>pclass</th>\n",
       "      <th>sex</th>\n",
       "      <th>age</th>\n",
       "      <th>sibsp</th>\n",
       "      <th>parch</th>\n",
       "      <th>fare</th>\n",
       "      <th>embarked</th>\n",
       "      <th>class</th>\n",
       "      <th>who</th>\n",
       "      <th>adult_male</th>\n",
       "      <th>deck</th>\n",
       "      <th>embark_town</th>\n",
       "      <th>alive</th>\n",
       "      <th>alone</th>\n",
       "    </tr>\n",
       "  </thead>\n",
       "  <tbody>\n",
       "    <tr>\n",
       "      <th>0</th>\n",
       "      <td>0</td>\n",
       "      <td>3</td>\n",
       "      <td>male</td>\n",
       "      <td>22.0</td>\n",
       "      <td>1</td>\n",
       "      <td>0</td>\n",
       "      <td>7.2500</td>\n",
       "      <td>S</td>\n",
       "      <td>Third</td>\n",
       "      <td>man</td>\n",
       "      <td>True</td>\n",
       "      <td>NaN</td>\n",
       "      <td>Southampton</td>\n",
       "      <td>no</td>\n",
       "      <td>False</td>\n",
       "    </tr>\n",
       "    <tr>\n",
       "      <th>1</th>\n",
       "      <td>1</td>\n",
       "      <td>1</td>\n",
       "      <td>female</td>\n",
       "      <td>38.0</td>\n",
       "      <td>1</td>\n",
       "      <td>0</td>\n",
       "      <td>71.2833</td>\n",
       "      <td>C</td>\n",
       "      <td>First</td>\n",
       "      <td>woman</td>\n",
       "      <td>False</td>\n",
       "      <td>C</td>\n",
       "      <td>Cherbourg</td>\n",
       "      <td>yes</td>\n",
       "      <td>False</td>\n",
       "    </tr>\n",
       "    <tr>\n",
       "      <th>2</th>\n",
       "      <td>1</td>\n",
       "      <td>3</td>\n",
       "      <td>female</td>\n",
       "      <td>26.0</td>\n",
       "      <td>0</td>\n",
       "      <td>0</td>\n",
       "      <td>7.9250</td>\n",
       "      <td>S</td>\n",
       "      <td>Third</td>\n",
       "      <td>woman</td>\n",
       "      <td>False</td>\n",
       "      <td>NaN</td>\n",
       "      <td>Southampton</td>\n",
       "      <td>yes</td>\n",
       "      <td>True</td>\n",
       "    </tr>\n",
       "    <tr>\n",
       "      <th>3</th>\n",
       "      <td>1</td>\n",
       "      <td>1</td>\n",
       "      <td>female</td>\n",
       "      <td>35.0</td>\n",
       "      <td>1</td>\n",
       "      <td>0</td>\n",
       "      <td>53.1000</td>\n",
       "      <td>S</td>\n",
       "      <td>First</td>\n",
       "      <td>woman</td>\n",
       "      <td>False</td>\n",
       "      <td>C</td>\n",
       "      <td>Southampton</td>\n",
       "      <td>yes</td>\n",
       "      <td>False</td>\n",
       "    </tr>\n",
       "    <tr>\n",
       "      <th>4</th>\n",
       "      <td>0</td>\n",
       "      <td>3</td>\n",
       "      <td>male</td>\n",
       "      <td>35.0</td>\n",
       "      <td>0</td>\n",
       "      <td>0</td>\n",
       "      <td>8.0500</td>\n",
       "      <td>S</td>\n",
       "      <td>Third</td>\n",
       "      <td>man</td>\n",
       "      <td>True</td>\n",
       "      <td>NaN</td>\n",
       "      <td>Southampton</td>\n",
       "      <td>no</td>\n",
       "      <td>True</td>\n",
       "    </tr>\n",
       "  </tbody>\n",
       "</table>\n",
       "</div>"
      ],
      "text/plain": [
       "   survived  pclass     sex   age  sibsp  parch     fare embarked  class  \\\n",
       "0         0       3    male  22.0      1      0   7.2500        S  Third   \n",
       "1         1       1  female  38.0      1      0  71.2833        C  First   \n",
       "2         1       3  female  26.0      0      0   7.9250        S  Third   \n",
       "3         1       1  female  35.0      1      0  53.1000        S  First   \n",
       "4         0       3    male  35.0      0      0   8.0500        S  Third   \n",
       "\n",
       "     who  adult_male deck  embark_town alive  alone  \n",
       "0    man        True  NaN  Southampton    no  False  \n",
       "1  woman       False    C    Cherbourg   yes  False  \n",
       "2  woman       False  NaN  Southampton   yes   True  \n",
       "3  woman       False    C  Southampton   yes  False  \n",
       "4    man        True  NaN  Southampton    no   True  "
      ]
     },
     "execution_count": 159,
     "metadata": {},
     "output_type": "execute_result"
    }
   ],
   "source": [
    "# Load Titanic dataset from seaborn and verify\n",
    "titanic = sns.load_dataset(\"titanic\")\n",
    "titanic.head()"
   ]
  },
  {
   "cell_type": "markdown",
   "metadata": {},
   "source": [
    "##### Section 2: Data Exploration and Preparation"
   ]
  },
  {
   "cell_type": "code",
   "execution_count": 160,
   "metadata": {},
   "outputs": [
    {
     "name": "stderr",
     "output_type": "stream",
     "text": [
      "C:\\Users\\cerad\\AppData\\Local\\Temp\\ipykernel_24704\\3774361238.py:2: FutureWarning: A value is trying to be set on a copy of a DataFrame or Series through chained assignment using an inplace method.\n",
      "The behavior will change in pandas 3.0. This inplace method will never work because the intermediate object on which we are setting values always behaves as a copy.\n",
      "\n",
      "For example, when doing 'df[col].method(value, inplace=True)', try using 'df.method({col: value}, inplace=True)' or df[col] = df[col].method(value) instead, to perform the operation inplace on the original object.\n",
      "\n",
      "\n",
      "  titanic['age'].fillna(titanic['age'].median(), inplace=True)\n"
     ]
    },
    {
     "data": {
      "text/html": [
       "<div>\n",
       "<style scoped>\n",
       "    .dataframe tbody tr th:only-of-type {\n",
       "        vertical-align: middle;\n",
       "    }\n",
       "\n",
       "    .dataframe tbody tr th {\n",
       "        vertical-align: top;\n",
       "    }\n",
       "\n",
       "    .dataframe thead th {\n",
       "        text-align: right;\n",
       "    }\n",
       "</style>\n",
       "<table border=\"1\" class=\"dataframe\">\n",
       "  <thead>\n",
       "    <tr style=\"text-align: right;\">\n",
       "      <th></th>\n",
       "      <th>survived</th>\n",
       "      <th>pclass</th>\n",
       "      <th>sex</th>\n",
       "      <th>age</th>\n",
       "      <th>sibsp</th>\n",
       "      <th>parch</th>\n",
       "      <th>fare</th>\n",
       "      <th>embarked</th>\n",
       "      <th>class</th>\n",
       "      <th>who</th>\n",
       "      <th>adult_male</th>\n",
       "      <th>deck</th>\n",
       "      <th>embark_town</th>\n",
       "      <th>alive</th>\n",
       "      <th>alone</th>\n",
       "      <th>family_size</th>\n",
       "    </tr>\n",
       "  </thead>\n",
       "  <tbody>\n",
       "    <tr>\n",
       "      <th>0</th>\n",
       "      <td>0</td>\n",
       "      <td>3</td>\n",
       "      <td>0</td>\n",
       "      <td>22.0</td>\n",
       "      <td>1</td>\n",
       "      <td>0</td>\n",
       "      <td>7.2500</td>\n",
       "      <td>S</td>\n",
       "      <td>Third</td>\n",
       "      <td>man</td>\n",
       "      <td>True</td>\n",
       "      <td>NaN</td>\n",
       "      <td>Southampton</td>\n",
       "      <td>no</td>\n",
       "      <td>False</td>\n",
       "      <td>2</td>\n",
       "    </tr>\n",
       "    <tr>\n",
       "      <th>1</th>\n",
       "      <td>1</td>\n",
       "      <td>1</td>\n",
       "      <td>1</td>\n",
       "      <td>38.0</td>\n",
       "      <td>1</td>\n",
       "      <td>0</td>\n",
       "      <td>71.2833</td>\n",
       "      <td>C</td>\n",
       "      <td>First</td>\n",
       "      <td>woman</td>\n",
       "      <td>False</td>\n",
       "      <td>C</td>\n",
       "      <td>Cherbourg</td>\n",
       "      <td>yes</td>\n",
       "      <td>False</td>\n",
       "      <td>2</td>\n",
       "    </tr>\n",
       "    <tr>\n",
       "      <th>2</th>\n",
       "      <td>1</td>\n",
       "      <td>3</td>\n",
       "      <td>1</td>\n",
       "      <td>26.0</td>\n",
       "      <td>0</td>\n",
       "      <td>0</td>\n",
       "      <td>7.9250</td>\n",
       "      <td>S</td>\n",
       "      <td>Third</td>\n",
       "      <td>woman</td>\n",
       "      <td>False</td>\n",
       "      <td>NaN</td>\n",
       "      <td>Southampton</td>\n",
       "      <td>yes</td>\n",
       "      <td>True</td>\n",
       "      <td>1</td>\n",
       "    </tr>\n",
       "    <tr>\n",
       "      <th>3</th>\n",
       "      <td>1</td>\n",
       "      <td>1</td>\n",
       "      <td>1</td>\n",
       "      <td>35.0</td>\n",
       "      <td>1</td>\n",
       "      <td>0</td>\n",
       "      <td>53.1000</td>\n",
       "      <td>S</td>\n",
       "      <td>First</td>\n",
       "      <td>woman</td>\n",
       "      <td>False</td>\n",
       "      <td>C</td>\n",
       "      <td>Southampton</td>\n",
       "      <td>yes</td>\n",
       "      <td>False</td>\n",
       "      <td>2</td>\n",
       "    </tr>\n",
       "    <tr>\n",
       "      <th>4</th>\n",
       "      <td>0</td>\n",
       "      <td>3</td>\n",
       "      <td>0</td>\n",
       "      <td>35.0</td>\n",
       "      <td>0</td>\n",
       "      <td>0</td>\n",
       "      <td>8.0500</td>\n",
       "      <td>S</td>\n",
       "      <td>Third</td>\n",
       "      <td>man</td>\n",
       "      <td>True</td>\n",
       "      <td>NaN</td>\n",
       "      <td>Southampton</td>\n",
       "      <td>no</td>\n",
       "      <td>True</td>\n",
       "      <td>1</td>\n",
       "    </tr>\n",
       "  </tbody>\n",
       "</table>\n",
       "</div>"
      ],
      "text/plain": [
       "   survived  pclass  sex   age  sibsp  parch     fare embarked  class    who  \\\n",
       "0         0       3    0  22.0      1      0   7.2500        S  Third    man   \n",
       "1         1       1    1  38.0      1      0  71.2833        C  First  woman   \n",
       "2         1       3    1  26.0      0      0   7.9250        S  Third  woman   \n",
       "3         1       1    1  35.0      1      0  53.1000        S  First  woman   \n",
       "4         0       3    0  35.0      0      0   8.0500        S  Third    man   \n",
       "\n",
       "   adult_male deck  embark_town alive  alone  family_size  \n",
       "0        True  NaN  Southampton    no  False            2  \n",
       "1       False    C    Cherbourg   yes  False            2  \n",
       "2       False  NaN  Southampton   yes   True            1  \n",
       "3       False    C  Southampton   yes  False            2  \n",
       "4        True  NaN  Southampton    no   True            1  "
      ]
     },
     "execution_count": 160,
     "metadata": {},
     "output_type": "execute_result"
    }
   ],
   "source": [
    "# Impute the missing age values using the median\n",
    "titanic['age'].fillna(titanic['age'].median(), inplace=True)\n",
    "# Drop rows that are missing fare\n",
    "titanic = titanic.dropna(subset=['fare'])\n",
    "# Create numeric variables\n",
    "titanic['family_size'] = titanic['sibsp'] + titanic['parch'] + 1\n",
    "# Convert 'sex' to a numeric value\n",
    "titanic['sex'] = titanic['sex'].map({'male': 0, 'female': 1})\n",
    "titanic.head()"
   ]
  },
  {
   "cell_type": "markdown",
   "metadata": {},
   "source": [
    "##### Section 3: Feature Selection and Justification "
   ]
  },
  {
   "cell_type": "code",
   "execution_count": 161,
   "metadata": {},
   "outputs": [],
   "source": [
    "# Define features\n",
    "# Case 1. age\n",
    "X1 = titanic[['age']]\n",
    "y1 = titanic['fare']\n",
    "\n",
    "# Case 2. family_size\n",
    "X2 = titanic[['family_size']]\n",
    "y2 = titanic['fare']\n",
    "\n",
    "# Case 3. age, family_size\n",
    "X3 = titanic[['age', 'family_size']]\n",
    "y3 = titanic['fare']\n",
    "\n",
    "# Case 4. ???\n",
    "X4 = titanic[['sex']]\n",
    "y4 = titanic['fare']"
   ]
  },
  {
   "cell_type": "markdown",
   "metadata": {},
   "source": [
    "##### Reflection: Sex might have an impact on fare because of the gender norms of the time. It might also correlate to class, which would have an effect on fare. Age and family size might also affect fare if there were reduced prices for groups or children. \n",
    "##### I am using 3 variables: age, family size, sex\n",
    "##### Available variables: survived, pclass, sex, age, sibsp, parch, fare, embarked, class,\twho, adult_male,deck, embark_town, alive, alone, family_size\n",
    "##### My case 4 has 1 variable, 'sex'. Sex might be a good indicator of fare due to differences in the gender norms of the time and/or being an indicator of class."
   ]
  },
  {
   "cell_type": "markdown",
   "metadata": {},
   "source": [
    "##### Section 4. Train a Regression Model (Linear Regression)"
   ]
  },
  {
   "cell_type": "code",
   "execution_count": 162,
   "metadata": {},
   "outputs": [],
   "source": [
    "# 4.1 Split the Data\n",
    "X1_train, X1_test, y1_train, y1_test = train_test_split(X1, y1, test_size=0.2, random_state=123)\n",
    "\n",
    "X2_train, X2_test, y2_train, y2_test = train_test_split(X2, y2, test_size=0.2, random_state=123)\n",
    "\n",
    "X3_train, X3_test, y3_train, y3_test = train_test_split(X3, y3, test_size=0.2, random_state=123)\n",
    "\n",
    "X4_train, X4_test, y4_train, y4_test = train_test_split(X4, y4, test_size=0.2, random_state=123)"
   ]
  },
  {
   "cell_type": "code",
   "execution_count": 163,
   "metadata": {},
   "outputs": [],
   "source": [
    "# Train and Evaluate Linear Regression\n",
    "lr_model1 = LinearRegression().fit(X1_train, y1_train)\n",
    "lr_model2 = LinearRegression().fit(X2_train, y2_train)\n",
    "lr_model3 = LinearRegression().fit(X3_train, y3_train)\n",
    "lr_model4 = LinearRegression().fit(X4_train, y4_train)\n",
    "\n",
    "# Predictions\n",
    "\n",
    "y_pred_train1 = lr_model1.predict(X1_train)\n",
    "y_pred_test1 = lr_model1.predict(X1_test)\n",
    "\n",
    "y_pred_train2 = lr_model2.predict(X2_train)\n",
    "y_pred_test2 = lr_model2.predict(X2_test)\n",
    "\n",
    "y_pred_train3 = lr_model3.predict(X3_train)\n",
    "y_pred_test3 = lr_model3.predict(X3_test)\n",
    "\n",
    "y_pred_train4 = lr_model4.predict(X4_train)\n",
    "y_pred_test4 = lr_model4.predict(X4_test)"
   ]
  },
  {
   "cell_type": "code",
   "execution_count": 164,
   "metadata": {},
   "outputs": [
    {
     "name": "stdout",
     "output_type": "stream",
     "text": [
      "Case 1: Training R²: 0.009950688019452314\n",
      "Case 1: Test R²: 0.0034163395508415295\n",
      "Case 1: Test RMSE: 37.97164180172938\n",
      "Case 1: Test MAE: 25.28637293162364\n"
     ]
    }
   ],
   "source": [
    "#Report Performance - Case 1\n",
    "print(\"Case 1: Training R²:\", r2_score(y1_train, y_pred_train1))\n",
    "print(\"Case 1: Test R²:\", r2_score(y1_test, y_pred_test1))\n",
    "print(\"Case 1: Test RMSE:\", np.sqrt(mean_squared_error(y1_test, y_pred_test1)))\n",
    "print(\"Case 1: Test MAE:\", mean_absolute_error(y1_test, y_pred_test1))\n"
   ]
  },
  {
   "cell_type": "code",
   "execution_count": 165,
   "metadata": {},
   "outputs": [
    {
     "name": "stdout",
     "output_type": "stream",
     "text": [
      "Case 2: Training R²: 0.049915792364760736\n",
      "Case 2: Test R²: 0.022231186110131973\n",
      "Case 2: Test RMSE: 37.6114940041967\n",
      "Case 2: Test MAE: 25.02534815941641\n"
     ]
    }
   ],
   "source": [
    "#Report Performance - Case 2 \n",
    "print(\"Case 2: Training R²:\", r2_score(y2_train, y_pred_train2))\n",
    "print(\"Case 2: Test R²:\", r2_score(y2_test, y_pred_test2))\n",
    "print(\"Case 2: Test RMSE:\", np.sqrt(mean_squared_error(y2_test, y_pred_test2)))\n",
    "print(\"Case 2: Test MAE:\", mean_absolute_error(y2_test, y_pred_test2))"
   ]
  },
  {
   "cell_type": "code",
   "execution_count": 166,
   "metadata": {},
   "outputs": [
    {
     "name": "stdout",
     "output_type": "stream",
     "text": [
      "Case 3: Training R²: 0.07347466201590014\n",
      "Case 3: Test R²: 0.049784832763073106\n",
      "Case 3: Test RMSE: 37.0777586646559\n",
      "Case 3: Test MAE: 24.284935030470688\n"
     ]
    }
   ],
   "source": [
    "# Report Performance - Case 3\n",
    "print(\"Case 3: Training R²:\", r2_score(y3_train, y_pred_train3))\n",
    "print(\"Case 3: Test R²:\", r2_score(y3_test, y_pred_test3))\n",
    "print(\"Case 3: Test RMSE:\", np.sqrt(mean_squared_error(y3_test, y_pred_test3)))\n",
    "print(\"Case 3: Test MAE:\", mean_absolute_error(y3_test, y_pred_test3))"
   ]
  },
  {
   "cell_type": "code",
   "execution_count": 167,
   "metadata": {},
   "outputs": [
    {
     "name": "stdout",
     "output_type": "stream",
     "text": [
      "Case 4: Training R²: 0.023885614755059348\n",
      "Case 4: Test R²: 0.09936584220882583\n",
      "Case 4: Test RMSE: 36.09746477477291\n",
      "Case 4: Test MAE: 24.24249103567552\n"
     ]
    }
   ],
   "source": [
    "# Report Performance - Case 4\n",
    "print(\"Case 4: Training R²:\", r2_score(y4_train, y_pred_train4))\n",
    "print(\"Case 4: Test R²:\", r2_score(y4_test, y_pred_test4))\n",
    "print(\"Case 4: Test RMSE:\", np.sqrt(mean_squared_error(y4_test, y_pred_test4)))\n",
    "print(\"Case 4: Test MAE:\", mean_absolute_error(y4_test, y_pred_test4))"
   ]
  },
  {
   "cell_type": "markdown",
   "metadata": {},
   "source": [
    "###### Compare the train vs test results for each.\n",
    "\n",
    "###### Did Case 1 overfit or underfit? Explain: Underfit. It did not perform well for the test or training set. Both R^2 numbers are close to 0, which means it might not be a good predictor of a trend. \n",
    "###### Did Case 2 overfit or underfit? Explain:Underfit. It performed slightly better than case 1, but still not explaining very much variance in the data. \n",
    "###### Did Case 3 overfit or underfit?  Underfit. The training and test scores are very close. The R^2 values are still too low for it to be a strong model. \n",
    "###### Did Case 4 overfit or underfit? Explain: Underfit. R^2 scores are still too low for the model to be a good indicator of trends. "
   ]
  },
  {
   "cell_type": "markdown",
   "metadata": {},
   "source": [
    "###### Adding age. Did adding age improve the model: Yes. Adding age and family size together improved the model. But, it still did not perform great. However, slightly better than when using 'age' and 'family-size' as individual features. \n",
    "###### Propose a possible explanation (consider how age might affect ticket price, and whether the data supports that): Children could be charged a lower ticket price, so considering the age with the family size might be a better indicator. "
   ]
  },
  {
   "cell_type": "markdown",
   "metadata": {},
   "source": [
    "###### Which case performed the worst: Case 1, 'age'\n",
    "###### How do you know: The R^2 were much closer to 0 than the other cases. Numbers closer to 1 means that the  model performed better. \n",
    "###### Do you think adding more training data would improve it (and why/why not): No, I think we need to use better features or a more complex model. The amount of data should be enough. "
   ]
  },
  {
   "cell_type": "markdown",
   "metadata": {},
   "source": [
    "###### Which case performed the best: Case 3, we used 'age' and 'family size'\n",
    "###### How do you know: It had the highest R^2 score. \n",
    "###### Do you think adding more training data would improve it (and why/why not): I think there is enough data, but I think adding another feature or switching up the features would improve it. I think it performed the best because it used multiple features."
   ]
  },
  {
   "cell_type": "markdown",
   "metadata": {},
   "source": [
    "##### 5.1 Ridge Regression"
   ]
  },
  {
   "cell_type": "code",
   "execution_count": 168,
   "metadata": {},
   "outputs": [
    {
     "name": "stdout",
     "output_type": "stream",
     "text": [
      "Ridge Regression:\n",
      "  Train R²: 0.0734746407330249\n",
      "  Test R²: 0.04982936391349779\n",
      "  Test RMSE: 37.07688984322973\n",
      "  Test MAE: 24.284297797049124\n"
     ]
    }
   ],
   "source": [
    "ridge_model = Ridge(alpha=1.0)\n",
    "ridge_model.fit(X3_train, y3_train)\n",
    "y_pred_ridge = ridge_model.predict(X3_test)\n",
    "\n",
    "y_pred_ridge_train = ridge_model.predict(X3_train)\n",
    "y_pred_ridge_test = ridge_model.predict(X3_test)\n",
    "\n",
    "print(\"Ridge Regression:\")\n",
    "print(\"  Train R²:\", r2_score(y3_train, y_pred_ridge_train))\n",
    "print(\"  Test R²:\", r2_score(y3_test, y_pred_ridge_test))\n",
    "print(\"  Test RMSE:\", mean_squared_error(y3_test, y_pred_ridge_test) ** 0.5)\n",
    "print(\"  Test MAE:\", mean_absolute_error(y3_test, y_pred_ridge_test))"
   ]
  },
  {
   "cell_type": "markdown",
   "metadata": {},
   "source": [
    "##### 5.2 Elastic Net"
   ]
  },
  {
   "cell_type": "code",
   "execution_count": 169,
   "metadata": {},
   "outputs": [
    {
     "name": "stdout",
     "output_type": "stream",
     "text": [
      "Elastic Net Regression:\n",
      "  Train R²: 0.07320335321641502\n",
      "  Test R²: 0.054311120089991505\n",
      "  Test RMSE: 36.98934452030675\n",
      "  Test MAE: 24.213361975739836\n"
     ]
    }
   ],
   "source": [
    "elastic_model = ElasticNet(alpha=0.3, l1_ratio=0.5)\n",
    "elastic_model.fit(X3_train, y3_train)\n",
    "\n",
    "y_pred_elastic_train = elastic_model.predict(X3_train)\n",
    "y_pred_elastic_test = elastic_model.predict(X3_test)\n",
    "\n",
    "# Evaluate Elastic Net model\n",
    "print(\"Elastic Net Regression:\")\n",
    "print(\"  Train R²:\", r2_score(y3_train, y_pred_elastic_train))\n",
    "print(\"  Test R²:\", r2_score(y3_test, y_pred_elastic_test))\n",
    "print(\"  Test RMSE:\", mean_squared_error(y3_test, y_pred_elastic_test) ** 0.5)\n",
    "print(\"  Test MAE:\", mean_absolute_error(y3_test, y_pred_elastic_test))"
   ]
  },
  {
   "cell_type": "markdown",
   "metadata": {},
   "source": [
    "##### 5.3 Polynomial Regression "
   ]
  },
  {
   "cell_type": "code",
   "execution_count": 170,
   "metadata": {},
   "outputs": [],
   "source": [
    "# Set up the poly inputs\n",
    "poly = PolynomialFeatures(degree=3)\n",
    "X3_train_poly = poly.fit_transform(X3_train)\n",
    "X3_test_poly = poly.transform(X3_test)"
   ]
  },
  {
   "cell_type": "code",
   "execution_count": 171,
   "metadata": {},
   "outputs": [
    {
     "name": "stdout",
     "output_type": "stream",
     "text": [
      "Polynomial Regression (degree 3):\n",
      "  Train R²: 0.10180432583018018\n",
      "  Test R²: 0.06431933482028529\n",
      "  Test RMSE: 36.79309500509736\n",
      "  Test MAE: 23.13882918543916\n"
     ]
    }
   ],
   "source": [
    "# Use the poly inputs in the LR model\n",
    "poly_model = LinearRegression()\n",
    "poly_model.fit(X3_train_poly, y3_train)\n",
    "y_pred_poly = poly_model.predict(X3_test_poly)\n",
    "\n",
    "y_pred_poly_train = poly_model.predict(X3_train_poly)\n",
    "y_pred_poly_test = poly_model.predict(X3_test_poly)\n",
    "\n",
    "print(\"Polynomial Regression (degree 3):\")\n",
    "print(\"  Train R²:\", r2_score(y3_train, y_pred_poly_train))\n",
    "print(\"  Test R²:\", r2_score(y3_test, y_pred_poly_test))\n",
    "print(\"  Test RMSE:\", mean_squared_error(y3_test, y_pred_poly_test) ** 0.5)\n",
    "print(\"  Test MAE:\", mean_absolute_error(y3_test, y_pred_poly_test))"
   ]
  },
  {
   "cell_type": "markdown",
   "metadata": {},
   "source": [
    "##### 5.4 Visualize Polynomial Cubic Fit (1 Variable)"
   ]
  },
  {
   "cell_type": "code",
   "execution_count": 172,
   "metadata": {},
   "outputs": [
    {
     "data": {
      "image/png": "[encoded data removed]",
      "text/plain": [
       "<Figure size 640x480 with 1 Axes>"
      ]
     },
     "metadata": {},
     "output_type": "display_data"
    }
   ],
   "source": [
    "plt.scatter(X1_test, y1_test, color='blue', label='Actual')\n",
    "plt.scatter(X1_test, y_pred_poly, color='red', label='Predicted (Poly)')\n",
    "plt.legend()\n",
    "plt.title(\"Polynomial Regression: Age vs Fare\")\n",
    "plt.show()"
   ]
  },
  {
   "cell_type": "markdown",
   "metadata": {},
   "source": [
    "##### What patterns does the cubic model seem to capture:It shows nonlinear trends between age and fare. A slight curve around young/middle age passengers. \n",
    "##### Where does it perform well or poorly: It performs well for passengers between 10-40. The dots are a lot more dense and closer together. \n",
    "##### Did the polynomial fit outperform linear regression: Slightly better in the middle range of ages\n",
    "##### Where (on the graph or among which kinds of data points) does it fit best: Mid- range"
   ]
  },
  {
   "cell_type": "markdown",
   "metadata": {},
   "source": [
    "##### 5.4 Compare All Models"
   ]
  },
  {
   "cell_type": "code",
   "execution_count": 173,
   "metadata": {},
   "outputs": [
    {
     "name": "stdout",
     "output_type": "stream",
     "text": [
      "Linear R²: 0.050\n",
      "Linear RMSE: 37.08\n",
      "Linear MAE: 24.28\n",
      "\n",
      "Ridge R²: 0.050\n",
      "Ridge RMSE: 37.08\n",
      "Ridge MAE: 24.28\n",
      "\n",
      "ElasticNet R²: 0.054\n",
      "ElasticNet RMSE: 36.99\n",
      "ElasticNet MAE: 24.21\n",
      "\n",
      "Polynomial R²: 0.064\n",
      "Polynomial RMSE: 36.79\n",
      "Polynomial MAE: 23.14\n",
      "\n"
     ]
    }
   ],
   "source": [
    "def report(name, y_true, y_pred):\n",
    "    print(f\"{name} R²: {r2_score(y_true, y_pred):.3f}\")\n",
    "    print(f\"{name} RMSE: {mean_squared_error(y_true, y_pred) ** 0.5:.2f}\")\n",
    "    print(f\"{name} MAE: {mean_absolute_error(y_true, y_pred):.2f}\\n\")\n",
    "\n",
    "report(\"Linear\", y3_test, y_pred_test3)\n",
    "report(\"Ridge\", y3_test, y_pred_ridge)\n",
    "report(\"ElasticNet\", y3_test, y_pred_elastic_test)\n",
    "report(\"Polynomial\", y3_test, y_pred_poly)"
   ]
  },
  {
   "cell_type": "markdown",
   "metadata": {},
   "source": [
    "##### 5.5 Visualize Higher Order Polynomial (for the same 1 input case)"
   ]
  },
  {
   "cell_type": "code",
   "execution_count": 174,
   "metadata": {},
   "outputs": [
    {
     "data": {
      "image/png": "[encoded data removed]",
      "text/plain": [
       "<Figure size 640x480 with 1 Axes>"
      ]
     },
     "metadata": {},
     "output_type": "display_data"
    }
   ],
   "source": [
    "poly = PolynomialFeatures(degree=8)\n",
    "X3_train_poly = poly.fit_transform(X3_train)\n",
    "X3_test_poly = poly.transform(X3_test)\n",
    "\n",
    "poly_model = LinearRegression()\n",
    "poly_model.fit(X3_train_poly, y3_train)\n",
    "y_pred_poly = poly_model.predict(X3_test_poly)\n",
    "\n",
    "y_pred_poly_train = poly_model.predict(X3_train_poly)\n",
    "y_pred_poly_test = poly_model.predict(X3_test_poly)\n",
    "plt.scatter(X1_test, y1_test, color='blue', label='Actual')\n",
    "plt.scatter(X1_test, y_pred_poly, color='red', label='Predicted (Poly)')\n",
    "plt.legend()\n",
    "plt.title(\"Polynomial Regression: Age vs Fare\")\n",
    "plt.show()"
   ]
  }
 ],
 "metadata": {
  "kernelspec": {
   "display_name": ".venv",
   "language": "python",
   "name": "python3"
  },
  "language_info": {
   "codemirror_mode": {
    "name": "ipython",
    "version": 3
   },
   "file_extension": ".py",
   "mimetype": "text/x-python",
   "name": "python",
   "nbconvert_exporter": "python",
   "pygments_lexer": "ipython3",
   "version": "3.12.2"
  }
 },
 "nbformat": 4,
 "nbformat_minor": 2
}
